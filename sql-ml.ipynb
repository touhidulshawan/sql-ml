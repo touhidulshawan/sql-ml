{
 "cells": [
  {
   "cell_type": "markdown",
   "id": "d26fab23-85e4-4464-ade2-4fc96791a286",
   "metadata": {},
   "source": [
    "**all neccessary library imports**"
   ]
  },
  {
   "cell_type": "code",
   "execution_count": 3,
   "id": "3dcf599f-f3c3-4d15-9f68-9def5f3860aa",
   "metadata": {
    "tags": []
   },
   "outputs": [],
   "source": [
    "import pandas as pd\n",
    "import tensorflow as tf\n",
    "from sklearn.model_selection import train_test_split\n",
    "from sklearn.metrics import accuracy_score, f1_score\n",
    "from sklearn.feature_extraction.text import TfidfVectorizer\n",
    "from sklearn.naive_bayes import MultinomialNB\n",
    "from sklearn.tree import DecisionTreeClassifier\n",
    "from sklearn.ensemble import RandomForestClassifier\n",
    "from sklearn.svm import SVC"
   ]
  },
  {
   "cell_type": "markdown",
   "id": "48f74814-998d-4ac0-a074-dd817974ff32",
   "metadata": {},
   "source": [
    "**import dataset and clean up data**"
   ]
  },
  {
   "cell_type": "code",
   "execution_count": 4,
   "id": "c0547022-0a32-44d7-b7de-9c86c803d392",
   "metadata": {
    "tags": []
   },
   "outputs": [
    {
     "data": {
      "text/html": [
       "<div>\n",
       "<style scoped>\n",
       "    .dataframe tbody tr th:only-of-type {\n",
       "        vertical-align: middle;\n",
       "    }\n",
       "\n",
       "    .dataframe tbody tr th {\n",
       "        vertical-align: top;\n",
       "    }\n",
       "\n",
       "    .dataframe thead th {\n",
       "        text-align: right;\n",
       "    }\n",
       "</style>\n",
       "<table border=\"1\" class=\"dataframe\">\n",
       "  <thead>\n",
       "    <tr style=\"text-align: right;\">\n",
       "      <th></th>\n",
       "      <th>Query</th>\n",
       "      <th>Label</th>\n",
       "    </tr>\n",
       "  </thead>\n",
       "  <tbody>\n",
       "    <tr>\n",
       "      <th>0</th>\n",
       "      <td>\" or pg_sleep  (  __TIME__  )  --</td>\n",
       "      <td>1</td>\n",
       "    </tr>\n",
       "    <tr>\n",
       "      <th>1</th>\n",
       "      <td>create user name identified by pass123 tempora...</td>\n",
       "      <td>1</td>\n",
       "    </tr>\n",
       "    <tr>\n",
       "      <th>2</th>\n",
       "      <td>AND 1  =  utl_inaddr.get_host_address   (    ...</td>\n",
       "      <td>1</td>\n",
       "    </tr>\n",
       "    <tr>\n",
       "      <th>3</th>\n",
       "      <td>select * from users where id  =  '1' or @ @1 ...</td>\n",
       "      <td>1</td>\n",
       "    </tr>\n",
       "    <tr>\n",
       "      <th>4</th>\n",
       "      <td>select * from users where id  =  1 or 1#\"  ( ...</td>\n",
       "      <td>1</td>\n",
       "    </tr>\n",
       "    <tr>\n",
       "      <th>...</th>\n",
       "      <td>...</td>\n",
       "      <td>...</td>\n",
       "    </tr>\n",
       "    <tr>\n",
       "      <th>30914</th>\n",
       "      <td>DELETE FROM door WHERE grow = 'small'</td>\n",
       "      <td>0</td>\n",
       "    </tr>\n",
       "    <tr>\n",
       "      <th>30915</th>\n",
       "      <td>DELETE FROM tomorrow</td>\n",
       "      <td>0</td>\n",
       "    </tr>\n",
       "    <tr>\n",
       "      <th>30916</th>\n",
       "      <td>SELECT wide ( s )  FROM west</td>\n",
       "      <td>0</td>\n",
       "    </tr>\n",
       "    <tr>\n",
       "      <th>30917</th>\n",
       "      <td>SELECT * FROM  ( SELECT slide FROM breath )</td>\n",
       "      <td>0</td>\n",
       "    </tr>\n",
       "    <tr>\n",
       "      <th>30918</th>\n",
       "      <td>SELECT TOP 3 * FROM race</td>\n",
       "      <td>0</td>\n",
       "    </tr>\n",
       "  </tbody>\n",
       "</table>\n",
       "<p>30907 rows × 2 columns</p>\n",
       "</div>"
      ],
      "text/plain": [
       "                                                   Query  Label\n",
       "0                      \" or pg_sleep  (  __TIME__  )  --      1\n",
       "1      create user name identified by pass123 tempora...      1\n",
       "2       AND 1  =  utl_inaddr.get_host_address   (    ...      1\n",
       "3       select * from users where id  =  '1' or @ @1 ...      1\n",
       "4       select * from users where id  =  1 or 1#\"  ( ...      1\n",
       "...                                                  ...    ...\n",
       "30914              DELETE FROM door WHERE grow = 'small'      0\n",
       "30915                               DELETE FROM tomorrow      0\n",
       "30916                       SELECT wide ( s )  FROM west      0\n",
       "30917       SELECT * FROM  ( SELECT slide FROM breath )       0\n",
       "30918                           SELECT TOP 3 * FROM race      0\n",
       "\n",
       "[30907 rows x 2 columns]"
      ]
     },
     "execution_count": 4,
     "metadata": {},
     "output_type": "execute_result"
    }
   ],
   "source": [
    "query_data = pd.read_csv(\"./data/sqli.csv\")\n",
    "\n",
    "# remove duplicates from dataset\n",
    "query_data.drop_duplicates(inplace=True)\n",
    "\n",
    "# handle any missing value on dataset\n",
    "query_data.dropna(inplace=True)\n",
    "query_data"
   ]
  },
  {
   "cell_type": "code",
   "execution_count": 5,
   "id": "012592c8-2013-4c90-a81d-1fea08ec4d24",
   "metadata": {
    "tags": []
   },
   "outputs": [],
   "source": [
    "X = query_data['Query']\n",
    "y = query_data['Label']"
   ]
  },
  {
   "cell_type": "code",
   "execution_count": 6,
   "id": "f466cbf9-afe8-450b-88c5-bebe6179d1cd",
   "metadata": {
    "tags": []
   },
   "outputs": [],
   "source": [
    "X_train, X_test, y_train, y_test = train_test_split(X,y, test_size=0.3, random_state=1)"
   ]
  },
  {
   "cell_type": "code",
   "execution_count": 7,
   "id": "88c8a471-afb9-497c-b17a-d7003f90dc08",
   "metadata": {
    "tags": []
   },
   "outputs": [],
   "source": [
    "# preprocessing data using TF-IDF vectorization\n",
    "vectorizer = TfidfVectorizer()\n",
    "X_train = vectorizer.fit_transform(X_train)\n",
    "X_test = vectorizer.transform(X_test)"
   ]
  },
  {
   "cell_type": "code",
   "execution_count": 8,
   "id": "3bdfde0d-77fb-4ed9-b459-d39aa8af5277",
   "metadata": {
    "tags": []
   },
   "outputs": [
    {
     "name": "stdout",
     "output_type": "stream",
     "text": [
      "Accuracy: 0.9682950501455839\n",
      "F1-Score: 0.9572176949941793\n"
     ]
    }
   ],
   "source": [
    "# training a naive Bayes model\n",
    "n_model = MultinomialNB()\n",
    "n_model.fit(X_train,y_train)\n",
    "n_pred = n_model.predict(X_test)\n",
    "n_model_accuracy = accuracy_score(y_test, n_pred)\n",
    "n_model_f1_score = f1_score(y_test, n_pred)\n",
    "print(f\"Accuracy: {n_model_accuracy}\")\n",
    "print(f\"F1-Score: {n_model_f1_score}\")"
   ]
  },
  {
   "cell_type": "code",
   "execution_count": 9,
   "id": "5def03fa-44f8-4148-a836-0604699465e6",
   "metadata": {
    "tags": []
   },
   "outputs": [
    {
     "name": "stdout",
     "output_type": "stream",
     "text": [
      "Accuracy: 0.7942413458427693\n",
      "F1-Score: 0.779064381658175\n"
     ]
    }
   ],
   "source": [
    "# training a model using decision tree algorithm\n",
    "d_model = DecisionTreeClassifier()\n",
    "d_model.fit(X_train, y_train)\n",
    "d_pred = d_model.predict(X_test)\n",
    "d_model_accuracy = accuracy_score(y_test, d_pred)\n",
    "d_model_f1_score = f1_score(y_test, d_pred)\n",
    "print(f\"Accuracy: {d_model_accuracy}\")\n",
    "print(f\"F1-Score: {d_model_f1_score}\")"
   ]
  },
  {
   "cell_type": "code",
   "execution_count": 10,
   "id": "517d9b23-8105-4b71-8b86-27b2fcca427d",
   "metadata": {
    "tags": []
   },
   "outputs": [
    {
     "name": "stdout",
     "output_type": "stream",
     "text": [
      "Accuracy: 0.8009274237032245\n",
      "F1-Score: 0.7901795862696066\n"
     ]
    }
   ],
   "source": [
    "# training a model using random forest tree algorithm\n",
    "r_model = RandomForestClassifier()\n",
    "r_model.fit(X_train, y_train)\n",
    "r_pred = r_model.predict(X_test)\n",
    "r_model_accuracy = accuracy_score(y_test, r_pred)\n",
    "r_model_f1_score = f1_score(y_test, r_pred)\n",
    "print(f\"Accuracy: {r_model_accuracy}\")\n",
    "print(f\"F1-Score: {r_model_f1_score}\")"
   ]
  },
  {
   "cell_type": "code",
   "execution_count": 11,
   "id": "45727de4-442f-4b4a-8b8e-6341422895f3",
   "metadata": {
    "tags": []
   },
   "outputs": [
    {
     "name": "stdout",
     "output_type": "stream",
     "text": [
      "Accuracy: 0.8208778173190985\n",
      "F1-Score: 0.8034552124008992\n"
     ]
    }
   ],
   "source": [
    "# training a model using Support Vector Machine (SVM) algorithm\n",
    "s_model = SVC()\n",
    "s_model.fit(X_train, y_train)\n",
    "s_pred = s_model.predict(X_test)\n",
    "s_model_accuracy = accuracy_score(y_test, s_pred)\n",
    "s_model_f1_score = f1_score(y_test, s_pred)\n",
    "print(f\"Accuracy: {s_model_accuracy}\")\n",
    "print(f\"F1-Score: {s_model_f1_score}\")"
   ]
  }
 ],
 "metadata": {
  "kernelspec": {
   "display_name": "sql-ml",
   "language": "python",
   "name": "sql-ml"
  },
  "language_info": {
   "codemirror_mode": {
    "name": "ipython",
    "version": 3
   },
   "file_extension": ".py",
   "mimetype": "text/x-python",
   "name": "python",
   "nbconvert_exporter": "python",
   "pygments_lexer": "ipython3",
   "version": "3.11.3"
  }
 },
 "nbformat": 4,
 "nbformat_minor": 5
}

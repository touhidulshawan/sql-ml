{
 "cells": [
  {
   "cell_type": "markdown",
   "id": "d26fab23-85e4-4464-ade2-4fc96791a286",
   "metadata": {},
   "source": [
    "**all neccessary library imports**"
   ]
  },
  {
   "cell_type": "code",
   "execution_count": 1,
   "id": "3dcf599f-f3c3-4d15-9f68-9def5f3860aa",
   "metadata": {
    "tags": []
   },
   "outputs": [],
   "source": [
    "import pandas as pd\n",
    "from sklearn.model_selection import train_test_split\n",
    "from sklearn.metrics import accuracy_score, f1_score\n",
    "from sklearn.feature_extraction.text import CountVectorizer\n",
    "from sklearn.naive_bayes import MultinomialNB\n",
    "from sklearn.tree import DecisionTreeClassifier\n",
    "from sklearn.ensemble import RandomForestClassifier\n",
    "from sklearn.svm import SVC\n",
    "from time import time\n",
    "import pickle"
   ]
  },
  {
   "cell_type": "markdown",
   "id": "48f74814-998d-4ac0-a074-dd817974ff32",
   "metadata": {},
   "source": [
    "**import dataset and clean up data**"
   ]
  },
  {
   "cell_type": "code",
   "execution_count": 2,
   "id": "c0547022-0a32-44d7-b7de-9c86c803d392",
   "metadata": {
    "tags": []
   },
   "outputs": [
    {
     "data": {
      "text/plain": [
       "Query    0\n",
       "Label    0\n",
       "dtype: int64"
      ]
     },
     "execution_count": 2,
     "metadata": {},
     "output_type": "execute_result"
    }
   ],
   "source": [
    "query_data = pd.read_csv(\"./data/sqli.csv\", encoding='utf-8')\n",
    "\n",
    "# remove duplicates from dataset\n",
    "query_data.drop_duplicates(inplace=True)\n",
    "\n",
    "# handle any missing value on dataset\n",
    "query_data.dropna(inplace=True)\n",
    "\n",
    "# check if there any null value in the dataset\n",
    "query_data.isnull().sum()"
   ]
  },
  {
   "cell_type": "code",
   "execution_count": 3,
   "id": "6f4980cc-ce06-4a13-8ae4-f2b27a89fd25",
   "metadata": {
    "tags": []
   },
   "outputs": [
    {
     "name": "stdout",
     "output_type": "stream",
     "text": [
      "Safe Queries: 19529\n",
      "Malicious Queries: 11378\n",
      "Data shape: (30907, 2)\n"
     ]
    },
    {
     "data": {
      "text/html": [
       "<div>\n",
       "<style scoped>\n",
       "    .dataframe tbody tr th:only-of-type {\n",
       "        vertical-align: middle;\n",
       "    }\n",
       "\n",
       "    .dataframe tbody tr th {\n",
       "        vertical-align: top;\n",
       "    }\n",
       "\n",
       "    .dataframe thead th {\n",
       "        text-align: right;\n",
       "    }\n",
       "</style>\n",
       "<table border=\"1\" class=\"dataframe\">\n",
       "  <thead>\n",
       "    <tr style=\"text-align: right;\">\n",
       "      <th></th>\n",
       "      <th>Query</th>\n",
       "      <th>Label</th>\n",
       "    </tr>\n",
       "  </thead>\n",
       "  <tbody>\n",
       "    <tr>\n",
       "      <th>0</th>\n",
       "      <td>\" or pg_sleep  (  __TIME__  )  --</td>\n",
       "      <td>1</td>\n",
       "    </tr>\n",
       "    <tr>\n",
       "      <th>1</th>\n",
       "      <td>create user name identified by pass123 tempora...</td>\n",
       "      <td>1</td>\n",
       "    </tr>\n",
       "    <tr>\n",
       "      <th>2</th>\n",
       "      <td>AND 1  =  utl_inaddr.get_host_address   (    ...</td>\n",
       "      <td>1</td>\n",
       "    </tr>\n",
       "    <tr>\n",
       "      <th>3</th>\n",
       "      <td>select * from users where id  =  '1' or @ @1 ...</td>\n",
       "      <td>1</td>\n",
       "    </tr>\n",
       "    <tr>\n",
       "      <th>4</th>\n",
       "      <td>select * from users where id  =  1 or 1#\"  ( ...</td>\n",
       "      <td>1</td>\n",
       "    </tr>\n",
       "    <tr>\n",
       "      <th>5</th>\n",
       "      <td>select name from syscolumns where id   =     ...</td>\n",
       "      <td>1</td>\n",
       "    </tr>\n",
       "    <tr>\n",
       "      <th>6</th>\n",
       "      <td>select * from users where id  =  1 +$+ or 1  =...</td>\n",
       "      <td>1</td>\n",
       "    </tr>\n",
       "    <tr>\n",
       "      <th>7</th>\n",
       "      <td>1;  (  load_file  (  char  (  47,101,116,99,47...</td>\n",
       "      <td>1</td>\n",
       "    </tr>\n",
       "    <tr>\n",
       "      <th>8</th>\n",
       "      <td>select * from users where id  =  '1' or ||/1 ...</td>\n",
       "      <td>1</td>\n",
       "    </tr>\n",
       "    <tr>\n",
       "      <th>9</th>\n",
       "      <td>select * from users where id  =  '1' or \\.&lt;\\ ...</td>\n",
       "      <td>1</td>\n",
       "    </tr>\n",
       "  </tbody>\n",
       "</table>\n",
       "</div>"
      ],
      "text/plain": [
       "                                               Query  Label\n",
       "0                  \" or pg_sleep  (  __TIME__  )  --      1\n",
       "1  create user name identified by pass123 tempora...      1\n",
       "2   AND 1  =  utl_inaddr.get_host_address   (    ...      1\n",
       "3   select * from users where id  =  '1' or @ @1 ...      1\n",
       "4   select * from users where id  =  1 or 1#\"  ( ...      1\n",
       "5   select name from syscolumns where id   =     ...      1\n",
       "6  select * from users where id  =  1 +$+ or 1  =...      1\n",
       "7  1;  (  load_file  (  char  (  47,101,116,99,47...      1\n",
       "8   select * from users where id  =  '1' or ||/1 ...      1\n",
       "9   select * from users where id  =  '1' or \\.<\\ ...      1"
      ]
     },
     "execution_count": 3,
     "metadata": {},
     "output_type": "execute_result"
    }
   ],
   "source": [
    "print(f\"Safe Queries: {query_data['Label'].value_counts()[0]}\")\n",
    "print(f\"Malicious Queries: {query_data['Label'].value_counts()[1]}\")\n",
    "print(f\"Data shape: {query_data.shape}\")\n",
    "query_data.head(10)"
   ]
  },
  {
   "cell_type": "markdown",
   "id": "9ca8c5bb-9082-4cf1-a408-1c5b5fdcba31",
   "metadata": {},
   "source": [
    "#### data preprocessing"
   ]
  },
  {
   "cell_type": "code",
   "execution_count": 4,
   "id": "012592c8-2013-4c90-a81d-1fea08ec4d24",
   "metadata": {
    "tags": []
   },
   "outputs": [],
   "source": [
    "X = query_data['Query']\n",
    "y = query_data['Label']"
   ]
  },
  {
   "cell_type": "code",
   "execution_count": 5,
   "id": "2dc4ea40-b806-46b3-9797-8f1f79840bec",
   "metadata": {},
   "outputs": [],
   "source": [
    "X_train, X_test, y_train, y_test = train_test_split(X,y, test_size=0.3, random_state=1) \n",
    "vectorizer = CountVectorizer()\n",
    "X_train = vectorizer.fit_transform(X_train)\n",
    "X_test = vectorizer.transform(X_test)"
   ]
  },
  {
   "cell_type": "code",
   "execution_count": 6,
   "id": "daf9da29-777f-469a-9a54-678f3bb6b7a8",
   "metadata": {
    "tags": []
   },
   "outputs": [
    {
     "data": {
      "text/plain": [
       "array([[0, 0, 0, ..., 0, 0, 0],\n",
       "       [0, 0, 0, ..., 0, 0, 0],\n",
       "       [0, 0, 0, ..., 0, 0, 0],\n",
       "       ...,\n",
       "       [0, 0, 0, ..., 0, 0, 0],\n",
       "       [0, 0, 0, ..., 0, 0, 0],\n",
       "       [0, 0, 0, ..., 0, 0, 0]])"
      ]
     },
     "execution_count": 6,
     "metadata": {},
     "output_type": "execute_result"
    }
   ],
   "source": [
    "X_train.toarray()"
   ]
  },
  {
   "cell_type": "code",
   "execution_count": 7,
   "id": "d4898e35-b8dd-47b5-8984-217e04089e0e",
   "metadata": {
    "tags": []
   },
   "outputs": [
    {
     "data": {
      "text/plain": [
       "array([[0, 0, 0, ..., 0, 0, 0],\n",
       "       [0, 0, 0, ..., 0, 0, 0],\n",
       "       [0, 0, 0, ..., 0, 0, 0],\n",
       "       ...,\n",
       "       [0, 0, 0, ..., 0, 0, 0],\n",
       "       [0, 0, 0, ..., 0, 0, 0],\n",
       "       [0, 0, 0, ..., 0, 0, 0]])"
      ]
     },
     "execution_count": 7,
     "metadata": {},
     "output_type": "execute_result"
    }
   ],
   "source": [
    "X_test.toarray()"
   ]
  },
  {
   "cell_type": "markdown",
   "id": "9eefda4a-fb74-4ec6-8b14-73548a642c1a",
   "metadata": {
    "tags": []
   },
   "source": [
    "> test different model"
   ]
  },
  {
   "cell_type": "code",
   "execution_count": 8,
   "id": "5def03fa-44f8-4148-a836-0604699465e6",
   "metadata": {
    "tags": []
   },
   "outputs": [
    {
     "name": "stdout",
     "output_type": "stream",
     "text": [
      "Accuracy: 0.8039469427369783\n",
      "F1-Score: 0.7932681373663861\n",
      "Training Time: 6.59 seconds\n"
     ]
    }
   ],
   "source": [
    "# training a model using decision tree algorithm\n",
    "d_model = DecisionTreeClassifier()\n",
    "start_time = time()\n",
    "d_model.fit(X_train, y_train)\n",
    "end_time = time()\n",
    "d_pred = d_model.predict(X_test)\n",
    "d_model_accuracy = accuracy_score(y_test, d_pred)\n",
    "d_model_f1_score = f1_score(y_test, d_pred)\n",
    "print(f\"Accuracy: {d_model_accuracy}\")\n",
    "print(f\"F1-Score: {d_model_f1_score}\")\n",
    "print(f\"Training Time: {end_time-start_time:.2f} seconds\")"
   ]
  },
  {
   "cell_type": "code",
   "execution_count": 9,
   "id": "517d9b23-8105-4b71-8b86-27b2fcca427d",
   "metadata": {
    "tags": []
   },
   "outputs": [
    {
     "name": "stdout",
     "output_type": "stream",
     "text": [
      "Accuracy: 0.7989863043243827\n",
      "F1-Score: 0.7890448166591219\n",
      "Training Time: 18.46 seconds\n"
     ]
    }
   ],
   "source": [
    "# training a model using random forest tree algorithm\n",
    "r_model = RandomForestClassifier()\n",
    "start_time = time()\n",
    "r_model.fit(X_train, y_train)\n",
    "end_time = time()\n",
    "r_pred = r_model.predict(X_test)\n",
    "r_model_accuracy = accuracy_score(y_test, r_pred)\n",
    "r_model_f1_score = f1_score(y_test, r_pred)\n",
    "print(f\"Accuracy: {r_model_accuracy}\")\n",
    "print(f\"F1-Score: {r_model_f1_score}\")\n",
    "print(f\"Training Time: {end_time-start_time:.2f} seconds\")"
   ]
  },
  {
   "cell_type": "code",
   "execution_count": 10,
   "id": "3bdfde0d-77fb-4ed9-b459-d39aa8af5277",
   "metadata": {
    "tags": []
   },
   "outputs": [
    {
     "name": "stdout",
     "output_type": "stream",
     "text": [
      "Accuracy: 0.9716380890758115\n",
      "F1-Score: 0.9618564176939812\n",
      "Training Time: 0.01 seconds\n"
     ]
    }
   ],
   "source": [
    "# training a naive Bayes model\n",
    "n_model = MultinomialNB()\n",
    "start_time = time()\n",
    "n_model.fit(X_train,y_train)\n",
    "end_time = time()\n",
    "n_pred = n_model.predict(X_test)\n",
    "n_model_accuracy = accuracy_score(y_test, n_pred)\n",
    "n_model_f1_score = f1_score(y_test, n_pred)\n",
    "print(f\"Accuracy: {n_model_accuracy}\")\n",
    "print(f\"F1-Score: {n_model_f1_score}\")\n",
    "print(f\"Training Time: {end_time-start_time:.2f} seconds\")"
   ]
  },
  {
   "cell_type": "code",
   "execution_count": 11,
   "id": "45727de4-442f-4b4a-8b8e-6341422895f3",
   "metadata": {
    "tags": []
   },
   "outputs": [
    {
     "name": "stdout",
     "output_type": "stream",
     "text": [
      "Accuracy: 0.9921276825191416\n",
      "F1-Score: 0.9894767190428139\n",
      "Training Time: 31.35 seconds\n"
     ]
    }
   ],
   "source": [
    "# training a model using Support Vector Machine (SVM) algorithm\n",
    "s_model = SVC()\n",
    "start_time = time()\n",
    "s_model.fit(X_train, y_train)\n",
    "end_time = time()\n",
    "s_pred = s_model.predict(X_test)\n",
    "s_model_accuracy = accuracy_score(y_test, s_pred)\n",
    "s_model_f1_score = f1_score(y_test, s_pred)\n",
    "print(f\"Accuracy: {s_model_accuracy}\")\n",
    "print(f\"F1-Score: {s_model_f1_score}\")\n",
    "print(f\"Training Time: {end_time-start_time:.2f} seconds\")"
   ]
  },
  {
   "cell_type": "markdown",
   "id": "7564e70c-3112-4e5f-a218-2e6cb2cd00e1",
   "metadata": {
    "tags": []
   },
   "source": [
    "> chosen support vector machine [SVM] model"
   ]
  },
  {
   "cell_type": "code",
   "execution_count": 12,
   "id": "6daabaf5-8297-4984-b800-d10565796dee",
   "metadata": {
    "tags": []
   },
   "outputs": [],
   "source": [
    "# save this training model for futher use\n",
    "pickle.dump(s_model, open(\"model.pkl\", \"wb\"))"
   ]
  },
  {
   "cell_type": "code",
   "execution_count": 13,
   "id": "337f7844-670a-4745-b182-a65c18f7f521",
   "metadata": {
    "tags": []
   },
   "outputs": [
    {
     "name": "stdout",
     "output_type": "stream",
     "text": [
      "Flag out malicious queries as malicious: 89\n",
      "Flag out malicious queries as safe: 11\n"
     ]
    }
   ],
   "source": [
    "# load model and test \n",
    "model = pickle.load(open(\"model.pkl\", \"rb\"))\n",
    "\n",
    "with open(\"sql_query.txt\", \"r\") as file:\n",
    "    lines = file.readlines()\n",
    "    \n",
    "user_given_query_data = pd.DataFrame(lines, columns=['Query'])\n",
    "\n",
    "sql_query = vectorizer.transform(user_given_query_data['Query'])\n",
    "results = model.predict(sql_query)\n",
    "\n",
    "malicious = 0\n",
    "safe = 0\n",
    "for result in results:\n",
    "    if result == 1:\n",
    "        malicious = malicious + 1\n",
    "    else:\n",
    "        safe = safe + 1\n",
    "        \n",
    "print(f\"Flag out malicious queries as malicious: {malicious}\")\n",
    "print(f\"Flag out malicious queries as safe: {safe}\")"
   ]
  },
  {
   "cell_type": "code",
   "execution_count": 14,
   "id": "493834fa-ce2a-4f7d-8b42-89d30d9e1e54",
   "metadata": {
    "tags": []
   },
   "outputs": [
    {
     "data": {
      "text/plain": [
       "array([1])"
      ]
     },
     "execution_count": 14,
     "metadata": {},
     "output_type": "execute_result"
    }
   ],
   "source": [
    "query = vectorizer.transform([\"'UNION SELECT NULL,NULL,NULL --\"])\n",
    "model.predict(query)"
   ]
  },
  {
   "cell_type": "markdown",
   "id": "a1eed13f-57b2-4183-9af2-591dc05910a8",
   "metadata": {},
   "source": [
    "#### manual testing\n",
    "Perform a manual testing on a website that has input validation with these same 100 malicious queries.\n",
    "\n",
    "> Result of manual testing\n",
    "\n",
    "```\n",
    "Flag out malicious queries as malicious : 78\n",
    "Flag out malicious queries as safe: 22\n",
    "```"
   ]
  },
  {
   "cell_type": "code",
   "execution_count": null,
   "id": "4816c067-9999-40ba-8b0b-780d93b77f9b",
   "metadata": {},
   "outputs": [],
   "source": []
  }
 ],
 "metadata": {
  "kernelspec": {
   "display_name": "sql-ml",
   "language": "python",
   "name": "sql-ml"
  },
  "language_info": {
   "codemirror_mode": {
    "name": "ipython",
    "version": 3
   },
   "file_extension": ".py",
   "mimetype": "text/x-python",
   "name": "python",
   "nbconvert_exporter": "python",
   "pygments_lexer": "ipython3",
   "version": "3.11.3"
  }
 },
 "nbformat": 4,
 "nbformat_minor": 5
}

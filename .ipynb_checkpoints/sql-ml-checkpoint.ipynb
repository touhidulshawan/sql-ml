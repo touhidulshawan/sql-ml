{
 "cells": [
  {
   "cell_type": "markdown",
   "id": "d26fab23-85e4-4464-ade2-4fc96791a286",
   "metadata": {},
   "source": [
    "**all neccessary library imports**"
   ]
  },
  {
   "cell_type": "code",
   "execution_count": 25,
   "id": "3dcf599f-f3c3-4d15-9f68-9def5f3860aa",
   "metadata": {
    "tags": []
   },
   "outputs": [],
   "source": [
    "import pandas as pd\n",
    "from sklearn.model_selection import train_test_split\n",
    "from sklearn.metrics import accuracy_score, f1_score\n",
    "from sklearn.feature_extraction.text import TfidfVectorizer\n",
    "from sklearn.naive_bayes import MultinomialNB\n",
    "from sklearn.tree import DecisionTreeClassifier\n",
    "from sklearn.ensemble import RandomForestClassifier\n",
    "from sklearn.svm import SVC\n",
    "from time import time\n",
    "import pickle"
   ]
  },
  {
   "cell_type": "markdown",
   "id": "48f74814-998d-4ac0-a074-dd817974ff32",
   "metadata": {},
   "source": [
    "**import dataset and clean up data**"
   ]
  },
  {
   "cell_type": "code",
   "execution_count": 26,
   "id": "c0547022-0a32-44d7-b7de-9c86c803d392",
   "metadata": {
    "tags": []
   },
   "outputs": [
    {
     "name": "stdout",
     "output_type": "stream",
     "text": [
      "Data shape: (30907, 2)\n"
     ]
    },
    {
     "data": {
      "text/html": [
       "<div>\n",
       "<style scoped>\n",
       "    .dataframe tbody tr th:only-of-type {\n",
       "        vertical-align: middle;\n",
       "    }\n",
       "\n",
       "    .dataframe tbody tr th {\n",
       "        vertical-align: top;\n",
       "    }\n",
       "\n",
       "    .dataframe thead th {\n",
       "        text-align: right;\n",
       "    }\n",
       "</style>\n",
       "<table border=\"1\" class=\"dataframe\">\n",
       "  <thead>\n",
       "    <tr style=\"text-align: right;\">\n",
       "      <th></th>\n",
       "      <th>Query</th>\n",
       "      <th>Label</th>\n",
       "    </tr>\n",
       "  </thead>\n",
       "  <tbody>\n",
       "    <tr>\n",
       "      <th>0</th>\n",
       "      <td>\" or pg_sleep  (  __TIME__  )  --</td>\n",
       "      <td>1</td>\n",
       "    </tr>\n",
       "    <tr>\n",
       "      <th>1</th>\n",
       "      <td>create user name identified by pass123 tempora...</td>\n",
       "      <td>1</td>\n",
       "    </tr>\n",
       "    <tr>\n",
       "      <th>2</th>\n",
       "      <td>AND 1  =  utl_inaddr.get_host_address   (    ...</td>\n",
       "      <td>1</td>\n",
       "    </tr>\n",
       "    <tr>\n",
       "      <th>3</th>\n",
       "      <td>select * from users where id  =  '1' or @ @1 ...</td>\n",
       "      <td>1</td>\n",
       "    </tr>\n",
       "    <tr>\n",
       "      <th>4</th>\n",
       "      <td>select * from users where id  =  1 or 1#\"  ( ...</td>\n",
       "      <td>1</td>\n",
       "    </tr>\n",
       "    <tr>\n",
       "      <th>5</th>\n",
       "      <td>select name from syscolumns where id   =     ...</td>\n",
       "      <td>1</td>\n",
       "    </tr>\n",
       "    <tr>\n",
       "      <th>6</th>\n",
       "      <td>select * from users where id  =  1 +$+ or 1  =...</td>\n",
       "      <td>1</td>\n",
       "    </tr>\n",
       "    <tr>\n",
       "      <th>7</th>\n",
       "      <td>1;  (  load_file  (  char  (  47,101,116,99,47...</td>\n",
       "      <td>1</td>\n",
       "    </tr>\n",
       "    <tr>\n",
       "      <th>8</th>\n",
       "      <td>select * from users where id  =  '1' or ||/1 ...</td>\n",
       "      <td>1</td>\n",
       "    </tr>\n",
       "    <tr>\n",
       "      <th>9</th>\n",
       "      <td>select * from users where id  =  '1' or \\.&lt;\\ ...</td>\n",
       "      <td>1</td>\n",
       "    </tr>\n",
       "  </tbody>\n",
       "</table>\n",
       "</div>"
      ],
      "text/plain": [
       "                                               Query  Label\n",
       "0                  \" or pg_sleep  (  __TIME__  )  --      1\n",
       "1  create user name identified by pass123 tempora...      1\n",
       "2   AND 1  =  utl_inaddr.get_host_address   (    ...      1\n",
       "3   select * from users where id  =  '1' or @ @1 ...      1\n",
       "4   select * from users where id  =  1 or 1#\"  ( ...      1\n",
       "5   select name from syscolumns where id   =     ...      1\n",
       "6  select * from users where id  =  1 +$+ or 1  =...      1\n",
       "7  1;  (  load_file  (  char  (  47,101,116,99,47...      1\n",
       "8   select * from users where id  =  '1' or ||/1 ...      1\n",
       "9   select * from users where id  =  '1' or \\.<\\ ...      1"
      ]
     },
     "execution_count": 26,
     "metadata": {},
     "output_type": "execute_result"
    }
   ],
   "source": [
    "query_data = pd.read_csv(\"./data/sqli.csv\", encoding='utf-8')\n",
    "\n",
    "# remove duplicates from dataset\n",
    "query_data.drop_duplicates(inplace=True)\n",
    "\n",
    "# handle any missing value on dataset\n",
    "query_data.dropna(inplace=True)\n",
    "print(f\"Data shape: {query_data.shape}\")\n",
    "query_data.head(10)"
   ]
  },
  {
   "cell_type": "code",
   "execution_count": 27,
   "id": "012592c8-2013-4c90-a81d-1fea08ec4d24",
   "metadata": {
    "tags": []
   },
   "outputs": [],
   "source": [
    "X = query_data['Query']\n",
    "y = query_data['Label']"
   ]
  },
  {
   "cell_type": "code",
   "execution_count": 29,
   "id": "2dc4ea40-b806-46b3-9797-8f1f79840bec",
   "metadata": {},
   "outputs": [],
   "source": [
    "X_train, X_test, y_train, y_test = train_test_split(X,y, test_size=0.3, random_state=1)\n",
    "vectorizer = TfidfVectorizer()\n",
    "X_train = vectorizer.fit_transform(X_train)\n",
    "X_test = vectorizer.transform(X_test)"
   ]
  },
  {
   "cell_type": "code",
   "execution_count": 30,
   "id": "afcfbef5-413a-40ef-a7ca-8e31abbf1328",
   "metadata": {
    "tags": []
   },
   "outputs": [
    {
     "name": "stdout",
     "output_type": "stream",
     "text": [
      "X_train : (21634, 18698)\n",
      "y_train: (21634,)\n",
      "X_test: (9273, 18698)\n",
      "y_test: (9273,)\n"
     ]
    }
   ],
   "source": [
    "print(f\"X_train : {X_train.shape}\")\n",
    "print(f\"y_train: {y_train.shape}\")\n",
    "print(f\"X_test: {X_test.shape}\")\n",
    "print(f\"y_test: {y_test.shape}\")"
   ]
  },
  {
   "cell_type": "markdown",
   "id": "9eefda4a-fb74-4ec6-8b14-73548a642c1a",
   "metadata": {
    "tags": []
   },
   "source": [
    "> test different model"
   ]
  },
  {
   "cell_type": "code",
   "execution_count": 34,
   "id": "5def03fa-44f8-4148-a836-0604699465e6",
   "metadata": {
    "tags": []
   },
   "outputs": [],
   "source": [
    "# training a model using decision tree algorithm\n",
    "d_model = DecisionTreeClassifier()\n",
    "start_time = time()\n",
    "d_model.fit(X_train, y_train)\n",
    "end_time = time()\n",
    "d_pred = d_model.predict(X_test)\n",
    "d_model_accuracy = accuracy_score(y_test, d_pred)\n",
    "d_model_f1_score = f1_score(y_test, d_pred)\n",
    "print(f\"Accuracy: {d_model_accuracy}\")\n",
    "print(f\"F1-Score: {d_model_f1_score}\")\n",
    "print(f\"Training Time: {end_time-start_time:.2f} seconds\")"
   ]
  },
  {
   "cell_type": "code",
   "execution_count": 35,
   "id": "517d9b23-8105-4b71-8b86-27b2fcca427d",
   "metadata": {
    "tags": []
   },
   "outputs": [],
   "source": [
    "# training a model using random forest tree algorithm\n",
    "r_model = RandomForestClassifier()\n",
    "start_time = time()\n",
    "r_model.fit(X_train, y_train)\n",
    "end_time = time()\n",
    "r_pred = r_model.predict(X_test)\n",
    "r_model_accuracy = accuracy_score(y_test, r_pred)\n",
    "r_model_f1_score = f1_score(y_test, r_pred)\n",
    "print(f\"Accuracy: {r_model_accuracy}\")\n",
    "print(f\"F1-Score: {r_model_f1_score}\")\n",
    "print(f\"Training Time: {end_time-start_time:.2f} seconds\")"
   ]
  },
  {
   "cell_type": "code",
   "execution_count": 36,
   "id": "45727de4-442f-4b4a-8b8e-6341422895f3",
   "metadata": {
    "tags": []
   },
   "outputs": [],
   "source": [
    "# training a model using Support Vector Machine (SVM) algorithm\n",
    "s_model = SVC()\n",
    "start_time = time()\n",
    "s_model.fit(X_train, y_train)\n",
    "end_time = time()\n",
    "s_pred = s_model.predict(X_test)\n",
    "s_model_accuracy = accuracy_score(y_test, s_pred)\n",
    "s_model_f1_score = f1_score(y_test, s_pred)\n",
    "print(f\"Accuracy: {s_model_accuracy}\")\n",
    "print(f\"F1-Score: {s_model_f1_score}\")\n",
    "print(f\"Training Time: {end_time-start_time:.2f} seconds\")"
   ]
  },
  {
   "cell_type": "markdown",
   "id": "7564e70c-3112-4e5f-a218-2e6cb2cd00e1",
   "metadata": {
    "tags": []
   },
   "source": [
    "> chosen naive bayes model"
   ]
  },
  {
   "cell_type": "code",
   "execution_count": 31,
   "id": "3bdfde0d-77fb-4ed9-b459-d39aa8af5277",
   "metadata": {
    "tags": []
   },
   "outputs": [
    {
     "name": "stdout",
     "output_type": "stream",
     "text": [
      "Accuracy: 0.9682950501455839\n",
      "F1-Score: 0.9572176949941793\n",
      "Training Time: 0.02 seconds\n"
     ]
    }
   ],
   "source": [
    "# training a naive Bayes model\n",
    "n_model = MultinomialNB()\n",
    "start_time = time()\n",
    "n_model.fit(X_train,y_train)\n",
    "end_time = time()\n",
    "n_pred = n_model.predict(X_test)\n",
    "n_model_accuracy = accuracy_score(y_test, n_pred)\n",
    "n_model_f1_score = f1_score(y_test, n_pred)\n",
    "print(f\"Accuracy: {n_model_accuracy}\")\n",
    "print(f\"F1-Score: {n_model_f1_score}\")\n",
    "print(f\"Training Time: {end_time-start_time:.2f} seconds\")"
   ]
  },
  {
   "cell_type": "code",
   "execution_count": 37,
   "id": "6daabaf5-8297-4984-b800-d10565796dee",
   "metadata": {
    "tags": []
   },
   "outputs": [],
   "source": [
    "# save this training model for futher use\n",
    "pickle.dump(n_model, open(\"model.pkl\", \"wb\"))"
   ]
  },
  {
   "cell_type": "code",
   "execution_count": 43,
   "id": "337f7844-670a-4745-b182-a65c18f7f521",
   "metadata": {
    "tags": []
   },
   "outputs": [
    {
     "name": "stdout",
     "output_type": "stream",
     "text": [
      "[1]\n"
     ]
    }
   ],
   "source": [
    "# load model and test \n",
    "model = pickle.load(open(\"model.pkl\", \"rb\"))\n",
    "test_data = pd.read_csv(\"test_file.txt\", header=None, names=['Query'])\n",
    "sql_query = vectorizer.transform(test_data['Query'])\n",
    "print(model.predict(sql_query))"
   ]
  }
 ],
 "metadata": {
  "kernelspec": {
   "display_name": "sql-ml",
   "language": "python",
   "name": "sql-ml"
  },
  "language_info": {
   "codemirror_mode": {
    "name": "ipython",
    "version": 3
   },
   "file_extension": ".py",
   "mimetype": "text/x-python",
   "name": "python",
   "nbconvert_exporter": "python",
   "pygments_lexer": "ipython3",
   "version": "3.11.3"
  }
 },
 "nbformat": 4,
 "nbformat_minor": 5
}

{
 "cells": [
  {
   "cell_type": "markdown",
   "id": "9961c910-23e6-4d0b-8256-9b25b98de51c",
   "metadata": {},
   "source": [
    "**all neccessary library imports**"
   ]
  },
  {
   "cell_type": "code",
   "execution_count": 1,
   "id": "35ede5eb-80e1-42c7-b672-26664295bc52",
   "metadata": {
    "tags": []
   },
   "outputs": [],
   "source": [
    "import pandas as pd\n",
    "from sklearn.model_selection import train_test_split\n",
    "from sklearn.metrics import accuracy_score, f1_score\n",
    "from sklearn.feature_extraction.text import CountVectorizer\n",
    "from sklearn.naive_bayes import MultinomialNB\n",
    "from sklearn.tree import DecisionTreeClassifier\n",
    "from sklearn.ensemble import RandomForestClassifier\n",
    "from sklearn.svm import SVC\n",
    "from time import time\n",
    "import pickle"
   ]
  },
  {
   "cell_type": "markdown",
   "id": "160b1883-800a-4245-b88e-4bec3ba212cf",
   "metadata": {},
   "source": [
    "**import dataset and clean up data**"
   ]
  },
  {
   "cell_type": "code",
   "execution_count": 2,
   "id": "9ce7efc9-a7e0-4b57-bede-4dbcc1ca04b3",
   "metadata": {
    "tags": []
   },
   "outputs": [
    {
     "data": {
      "text/plain": [
       "Query    0\n",
       "Label    0\n",
       "dtype: int64"
      ]
     },
     "execution_count": 2,
     "metadata": {},
     "output_type": "execute_result"
    }
   ],
   "source": [
    "query_data = pd.read_csv(\"./data/sqli.csv\", encoding='utf-8')\n",
    "\n",
    "# remove duplicates from dataset\n",
    "query_data.drop_duplicates(inplace=True)\n",
    "\n",
    "# handle any missing value on dataset\n",
    "query_data.dropna(inplace=True)\n",
    "\n",
    "# check if there any null value in the dataset\n",
    "query_data.isnull().sum()"
   ]
  },
  {
   "cell_type": "code",
   "execution_count": 3,
   "id": "f9a2447b-020a-4b74-b246-392b989e294c",
   "metadata": {
    "tags": []
   },
   "outputs": [
    {
     "name": "stdout",
     "output_type": "stream",
     "text": [
      "Safe Queries: 19529\n",
      "Malicious Queries: 11378\n",
      "Data shape: (30907, 2)\n"
     ]
    },
    {
     "data": {
      "text/html": [
       "<div>\n",
       "<style scoped>\n",
       "    .dataframe tbody tr th:only-of-type {\n",
       "        vertical-align: middle;\n",
       "    }\n",
       "\n",
       "    .dataframe tbody tr th {\n",
       "        vertical-align: top;\n",
       "    }\n",
       "\n",
       "    .dataframe thead th {\n",
       "        text-align: right;\n",
       "    }\n",
       "</style>\n",
       "<table border=\"1\" class=\"dataframe\">\n",
       "  <thead>\n",
       "    <tr style=\"text-align: right;\">\n",
       "      <th></th>\n",
       "      <th>Query</th>\n",
       "      <th>Label</th>\n",
       "    </tr>\n",
       "  </thead>\n",
       "  <tbody>\n",
       "    <tr>\n",
       "      <th>0</th>\n",
       "      <td>\" or pg_sleep  (  __TIME__  )  --</td>\n",
       "      <td>1</td>\n",
       "    </tr>\n",
       "    <tr>\n",
       "      <th>1</th>\n",
       "      <td>create user name identified by pass123 tempora...</td>\n",
       "      <td>1</td>\n",
       "    </tr>\n",
       "    <tr>\n",
       "      <th>2</th>\n",
       "      <td>AND 1  =  utl_inaddr.get_host_address   (    ...</td>\n",
       "      <td>1</td>\n",
       "    </tr>\n",
       "    <tr>\n",
       "      <th>3</th>\n",
       "      <td>select * from users where id  =  '1' or @ @1 ...</td>\n",
       "      <td>1</td>\n",
       "    </tr>\n",
       "    <tr>\n",
       "      <th>4</th>\n",
       "      <td>select * from users where id  =  1 or 1#\"  ( ...</td>\n",
       "      <td>1</td>\n",
       "    </tr>\n",
       "    <tr>\n",
       "      <th>5</th>\n",
       "      <td>select name from syscolumns where id   =     ...</td>\n",
       "      <td>1</td>\n",
       "    </tr>\n",
       "    <tr>\n",
       "      <th>6</th>\n",
       "      <td>select * from users where id  =  1 +$+ or 1  =...</td>\n",
       "      <td>1</td>\n",
       "    </tr>\n",
       "    <tr>\n",
       "      <th>7</th>\n",
       "      <td>1;  (  load_file  (  char  (  47,101,116,99,47...</td>\n",
       "      <td>1</td>\n",
       "    </tr>\n",
       "    <tr>\n",
       "      <th>8</th>\n",
       "      <td>select * from users where id  =  '1' or ||/1 ...</td>\n",
       "      <td>1</td>\n",
       "    </tr>\n",
       "    <tr>\n",
       "      <th>9</th>\n",
       "      <td>select * from users where id  =  '1' or \\.&lt;\\ ...</td>\n",
       "      <td>1</td>\n",
       "    </tr>\n",
       "  </tbody>\n",
       "</table>\n",
       "</div>"
      ],
      "text/plain": [
       "                                               Query  Label\n",
       "0                  \" or pg_sleep  (  __TIME__  )  --      1\n",
       "1  create user name identified by pass123 tempora...      1\n",
       "2   AND 1  =  utl_inaddr.get_host_address   (    ...      1\n",
       "3   select * from users where id  =  '1' or @ @1 ...      1\n",
       "4   select * from users where id  =  1 or 1#\"  ( ...      1\n",
       "5   select name from syscolumns where id   =     ...      1\n",
       "6  select * from users where id  =  1 +$+ or 1  =...      1\n",
       "7  1;  (  load_file  (  char  (  47,101,116,99,47...      1\n",
       "8   select * from users where id  =  '1' or ||/1 ...      1\n",
       "9   select * from users where id  =  '1' or \\.<\\ ...      1"
      ]
     },
     "execution_count": 3,
     "metadata": {},
     "output_type": "execute_result"
    }
   ],
   "source": [
    "print(f\"Safe Queries: {query_data['Label'].value_counts()[0]}\")\n",
    "print(f\"Malicious Queries: {query_data['Label'].value_counts()[1]}\")\n",
    "print(f\"Data shape: {query_data.shape}\")\n",
    "query_data.head(10)"
   ]
  },
  {
   "cell_type": "markdown",
   "id": "423c80e1-2948-4976-bd30-b920c46e5c45",
   "metadata": {},
   "source": [
    "#### data preprocessing"
   ]
  },
  {
   "cell_type": "code",
   "execution_count": 4,
   "id": "3c8f6c6b-316d-404e-a9a6-c9f3dc5299f6",
   "metadata": {
    "tags": []
   },
   "outputs": [],
   "source": [
    "X = query_data['Query']\n",
    "y = query_data['Label']"
   ]
  },
  {
   "cell_type": "code",
   "execution_count": 5,
   "id": "36e0df73-cd33-4e22-9525-b07c6bc4ce54",
   "metadata": {
    "tags": []
   },
   "outputs": [],
   "source": [
    "X_train, X_test, y_train, y_test = train_test_split(X,y, test_size=0.3, random_state=1) \n",
    "vectorizer = CountVectorizer()\n",
    "X_train = vectorizer.fit_transform(X_train)\n",
    "X_test = vectorizer.transform(X_test)"
   ]
  },
  {
   "cell_type": "code",
   "execution_count": 6,
   "id": "cc13f7b8-d0e4-46fd-8548-551664d2eaa6",
   "metadata": {
    "tags": []
   },
   "outputs": [
    {
     "data": {
      "text/plain": [
       "array([[0, 0, 0, ..., 0, 0, 0],\n",
       "       [0, 0, 0, ..., 0, 0, 0],\n",
       "       [0, 0, 0, ..., 0, 0, 0],\n",
       "       ...,\n",
       "       [0, 0, 0, ..., 0, 0, 0],\n",
       "       [0, 0, 0, ..., 0, 0, 0],\n",
       "       [0, 0, 0, ..., 0, 0, 0]])"
      ]
     },
     "execution_count": 6,
     "metadata": {},
     "output_type": "execute_result"
    }
   ],
   "source": [
    "X_train.toarray()"
   ]
  },
  {
   "cell_type": "code",
   "execution_count": 7,
   "id": "dcc6beec-1338-4795-bc27-53bce3509148",
   "metadata": {
    "tags": []
   },
   "outputs": [
    {
     "data": {
      "text/plain": [
       "array([[0, 0, 0, ..., 0, 0, 0],\n",
       "       [0, 0, 0, ..., 0, 0, 0],\n",
       "       [0, 0, 0, ..., 0, 0, 0],\n",
       "       ...,\n",
       "       [0, 0, 0, ..., 0, 0, 0],\n",
       "       [0, 0, 0, ..., 0, 0, 0],\n",
       "       [0, 0, 0, ..., 0, 0, 0]])"
      ]
     },
     "execution_count": 7,
     "metadata": {},
     "output_type": "execute_result"
    }
   ],
   "source": [
    "X_test.toarray()"
   ]
  },
  {
   "cell_type": "markdown",
   "id": "c698d716-6ca9-4261-888b-f4757e41c156",
   "metadata": {
    "tags": []
   },
   "source": [
    "> test different model"
   ]
  },
  {
   "cell_type": "code",
   "execution_count": 8,
   "id": "db6b5ff2-ef22-4b9e-b4ea-44845ae1e2a8",
   "metadata": {
    "tags": []
   },
   "outputs": [
    {
     "name": "stdout",
     "output_type": "stream",
     "text": [
      "Accuracy: 0.8038391027714871\n",
      "F1-Score: 0.7932249630555872\n",
      "Training Time: 5.24 seconds\n"
     ]
    }
   ],
   "source": [
    "# training a model using decision tree algorithm\n",
    "d_model = DecisionTreeClassifier()\n",
    "start_time = time()\n",
    "d_model.fit(X_train, y_train)\n",
    "end_time = time()\n",
    "d_pred = d_model.predict(X_test)\n",
    "d_model_accuracy = accuracy_score(y_test, d_pred)\n",
    "d_model_f1_score = f1_score(y_test, d_pred)\n",
    "print(f\"Accuracy: {d_model_accuracy}\")\n",
    "print(f\"F1-Score: {d_model_f1_score}\")\n",
    "print(f\"Training Time: {end_time-start_time:.2f} seconds\")"
   ]
  },
  {
   "cell_type": "code",
   "execution_count": 9,
   "id": "8ae3768e-7a7d-4570-a81c-ba840f2a6753",
   "metadata": {
    "tags": []
   },
   "outputs": [
    {
     "name": "stdout",
     "output_type": "stream",
     "text": [
      "Accuracy: 0.7987706243934002\n",
      "F1-Score: 0.7890094979647219\n",
      "Training Time: 19.78 seconds\n"
     ]
    }
   ],
   "source": [
    "# training a model using random forest tree algorithm\n",
    "r_model = RandomForestClassifier()\n",
    "start_time = time()\n",
    "r_model.fit(X_train, y_train)\n",
    "end_time = time()\n",
    "r_pred = r_model.predict(X_test)\n",
    "r_model_accuracy = accuracy_score(y_test, r_pred)\n",
    "r_model_f1_score = f1_score(y_test, r_pred)\n",
    "print(f\"Accuracy: {r_model_accuracy}\")\n",
    "print(f\"F1-Score: {r_model_f1_score}\")\n",
    "print(f\"Training Time: {end_time-start_time:.2f} seconds\")"
   ]
  },
  {
   "cell_type": "code",
   "execution_count": 10,
   "id": "45a7e567-83f6-43d5-b89f-e6e29f729466",
   "metadata": {
    "tags": []
   },
   "outputs": [
    {
     "name": "stdout",
     "output_type": "stream",
     "text": [
      "Accuracy: 0.9716380890758115\n",
      "F1-Score: 0.9618564176939812\n",
      "Training Time: 0.01 seconds\n"
     ]
    }
   ],
   "source": [
    "# training a naive Bayes model\n",
    "n_model = MultinomialNB()\n",
    "start_time = time()\n",
    "n_model.fit(X_train,y_train)\n",
    "end_time = time()\n",
    "n_pred = n_model.predict(X_test)\n",
    "n_model_accuracy = accuracy_score(y_test, n_pred)\n",
    "n_model_f1_score = f1_score(y_test, n_pred)\n",
    "print(f\"Accuracy: {n_model_accuracy}\")\n",
    "print(f\"F1-Score: {n_model_f1_score}\")\n",
    "print(f\"Training Time: {end_time-start_time:.2f} seconds\")"
   ]
  },
  {
   "cell_type": "code",
   "execution_count": 11,
   "id": "9aec1c4c-64d6-4b42-b45a-0eaa9f134131",
   "metadata": {
    "tags": []
   },
   "outputs": [
    {
     "name": "stdout",
     "output_type": "stream",
     "text": [
      "Accuracy: 0.9921276825191416\n",
      "F1-Score: 0.9894767190428139\n",
      "Training Time: 28.02 seconds\n"
     ]
    }
   ],
   "source": [
    "# training a model using Support Vector Machine (SVM) algorithm\n",
    "s_model = SVC()\n",
    "start_time = time()\n",
    "s_model.fit(X_train, y_train)\n",
    "end_time = time()\n",
    "s_pred = s_model.predict(X_test)\n",
    "s_model_accuracy = accuracy_score(y_test, s_pred)\n",
    "s_model_f1_score = f1_score(y_test, s_pred)\n",
    "print(f\"Accuracy: {s_model_accuracy}\")\n",
    "print(f\"F1-Score: {s_model_f1_score}\")\n",
    "print(f\"Training Time: {end_time-start_time:.2f} seconds\")"
   ]
  },
  {
   "cell_type": "markdown",
   "id": "8b88562c-86ef-4749-a394-ab8ac235f4f7",
   "metadata": {
    "tags": []
   },
   "source": [
    "> chosen support vector machine [SVM] model"
   ]
  },
  {
   "cell_type": "code",
   "execution_count": 12,
   "id": "b6a5575b-bd60-4130-97f5-d345ace12cf1",
   "metadata": {
    "tags": []
   },
   "outputs": [],
   "source": [
    "# save this training model for futher use\n",
    "pickle.dump(s_model, open(\"model_svm.pkl\", \"wb\"))"
   ]
  },
  {
   "cell_type": "code",
   "execution_count": 13,
   "id": "b2c8890e-28f3-494a-bf15-172900369b37",
   "metadata": {
    "tags": []
   },
   "outputs": [
    {
     "name": "stdout",
     "output_type": "stream",
     "text": [
      "Flag out malicious queries as malicious: 2\n",
      "Flag out malicious queries as safe: 3\n"
     ]
    }
   ],
   "source": [
    "# load model and test \n",
    "model = pickle.load(open(\"model_svm.pkl\", \"rb\"))\n",
    "\n",
    "with open(\"sql_query.txt\", \"r\") as file:\n",
    "    lines = file.readlines()\n",
    "    \n",
    "user_given_query_data = pd.DataFrame(lines, columns=['Query'])\n",
    "\n",
    "sql_query = vectorizer.transform(user_given_query_data['Query'])\n",
    "results = model.predict(sql_query)\n",
    "\n",
    "malicious = 0\n",
    "safe = 0\n",
    "for result in results:\n",
    "    if result == 1:\n",
    "        malicious = malicious + 1\n",
    "    else:\n",
    "        safe = safe + 1\n",
    "        \n",
    "print(f\"Flag out malicious queries as malicious: {malicious}\")\n",
    "print(f\"Flag out malicious queries as safe: {safe}\")"
   ]
  },
  {
   "cell_type": "code",
   "execution_count": null,
   "id": "027b2cef-1a83-443b-b28b-f4715eeda4b5",
   "metadata": {},
   "outputs": [],
   "source": []
  }
 ],
 "metadata": {
  "kernelspec": {
   "display_name": "sql-ml",
   "language": "python",
   "name": "sql-ml"
  },
  "language_info": {
   "codemirror_mode": {
    "name": "ipython",
    "version": 3
   },
   "file_extension": ".py",
   "mimetype": "text/x-python",
   "name": "python",
   "nbconvert_exporter": "python",
   "pygments_lexer": "ipython3",
   "version": "3.11.3"
  }
 },
 "nbformat": 4,
 "nbformat_minor": 5
}
